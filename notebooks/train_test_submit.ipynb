{
 "cells": [
  {
   "cell_type": "code",
   "execution_count": 4,
   "metadata": {},
   "outputs": [],
   "source": [
    "import sys, os\n",
    "sys.path.append(\"\\\\\".join(os.getcwd().split(\"\\\\\")[:-1]))\n",
    "\n",
    "from src.dataloader import KaggleMNISTDataset\n",
    "from src.cnn import Net\n",
    "\n",
    "import torch\n",
    "from matplotlib import pyplot as plt\n",
    "from torch.utils.data import DataLoader"
   ]
  },
  {
   "cell_type": "code",
   "execution_count": 5,
   "metadata": {},
   "outputs": [],
   "source": [
    "def train(model, device, train_loader, optimizer):\n",
    "    model.train()\n",
    "    tot_loss = 0\n",
    "    correct = 0\n",
    "    for i, (data, target) in enumerate(train_loader):\n",
    "        data, target = data.to(device), target.to(device)\n",
    "        optimizer.zero_grad()\n",
    "        output = model(data)\n",
    "        pred = output.argmax(dim=1, keepdim=True)\n",
    "        loss = torch.nn.CrossEntropyLoss()(output, target)\n",
    "        loss.backward()\n",
    "        optimizer.step()\n",
    "        correct += pred.eq(target.view_as(pred)).sum().item()\n",
    "\n",
    "    return correct, tot_loss\n"
   ]
  },
  {
   "cell_type": "code",
   "execution_count": 9,
   "metadata": {},
   "outputs": [
    {
     "name": "stdout",
     "output_type": "stream",
     "text": [
      "\n",
      "\n",
      "Training the Model...\n",
      "\t0.0% complete\n",
      "\t10.0% complete\n",
      "\t20.0% complete\n",
      "\t30.0% complete\n",
      "\t40.0% complete\n",
      "\t50.0% complete\n",
      "\t60.0% complete\n",
      "\t70.0% complete\n",
      "\t80.0% complete\n",
      "\t90.0% complete\n"
     ]
    },
    {
     "data": {
      "image/png": "[encoded data removed]",
      "text/plain": [
       "<Figure size 432x288 with 1 Axes>"
      ]
     },
     "metadata": {
      "needs_background": "light"
     },
     "output_type": "display_data"
    }
   ],
   "source": [
    "training_data = KaggleMNISTDataset('d:\\\\Projects\\\\kaggle_digit_recog\\\\data\\\\train.csv')\n",
    "train_dataloader = DataLoader(training_data, shuffle = True)\n",
    "\n",
    "max_epoch = 10\n",
    "model_path = \"d:\\\\Projects\\\\kaggle_digit_recog\\\\models\\\\model.pt\"\n",
    "device = torch.device(\"cuda:0\" if torch.cuda.is_available() else \"cpu\")\n",
    "\n",
    "model = Net().to(device)\n",
    "\n",
    "optimizer = torch.optim.SGD(model.parameters(), lr=0.01)\n",
    "scheduler = torch.optim.lr_scheduler.StepLR(optimizer, step_size=10, gamma=0.1)\n",
    "\n",
    "best_test_loss = 99999999999\n",
    "best_epoch = 0\n",
    "train_loss = []\n",
    "train_correct = []\n",
    "print(\"\\n\\nTraining the Model...\")\n",
    "for epoch in range(0, max_epoch):\n",
    "    correct, tot_loss = train(model, device, train_dataloader, optimizer)\n",
    "    print(\"\\t\" + str(epoch / max_epoch * 100) + \"% complete\")\n",
    "    train_loss.append(tot_loss)\n",
    "    train_correct.append(correct)\n",
    "    scheduler.step()\n",
    "\n",
    "    if best_test_loss > tot_loss:\n",
    "        best_test_loss = tot_loss\n",
    "        best_epoch = epoch\n",
    "        best_correct = correct\n",
    "        torch.save(model, model_path)\n",
    "\n",
    "e = list(range(max_epoch))\n",
    "plt.plot(e, train_loss, label=\"Training Set Loss\")\n",
    "plt.scatter([best_epoch], [best_test_loss], label=\"The Model\", c=\"red\")\n",
    "plt.legend()\n",
    "plt.xlabel(\"Epochs\")\n",
    "plt.ylabel(\"Loss\")\n",
    "plt.title(\"Loss vs Epochs\")\n",
    "plt.show()"
   ]
  },
  {
   "cell_type": "code",
   "execution_count": 10,
   "metadata": {},
   "outputs": [
    {
     "data": {
      "text/plain": [
       "[0, 0, 0, 0, 0, 0, 0, 0, 0, 0]"
      ]
     },
     "execution_count": 10,
     "metadata": {},
     "output_type": "execute_result"
    }
   ],
   "source": [
    "train_loss"
   ]
  },
  {
   "cell_type": "code",
   "execution_count": 28,
   "metadata": {},
   "outputs": [],
   "source": [
    "test_data = KaggleMNISTDataset('d:\\\\Projects\\\\kaggle_digit_recog\\\\data\\\\test.csv')\n",
    "test_dataloader = DataLoader(test_data, shuffle = False)\n",
    "\n",
    "predictions = []\n",
    "model = Net().to('cpu')\n",
    "model = torch.load(\"d:\\\\Projects\\\\kaggle_digit_recog\\\\models\\\\model.pt\").to('cpu')\n",
    "model.eval()\n",
    "for i, (data) in enumerate(test_dataloader):\n",
    "    optimizer.zero_grad()\n",
    "    output = model(data)\n",
    "    pred = int(output.argmax(dim=1, keepdim=True))\n",
    "    predictions.append(pred)"
   ]
  },
  {
   "cell_type": "code",
   "execution_count": 29,
   "metadata": {},
   "outputs": [
    {
     "name": "stdout",
     "output_type": "stream",
     "text": [
      "0\n"
     ]
    },
    {
     "data": {
      "image/png": "[encoded data removed]",
      "text/plain": [
       "<Figure size 432x288 with 1 Axes>"
      ]
     },
     "metadata": {
      "needs_background": "light"
     },
     "output_type": "display_data"
    }
   ],
   "source": [
    "index = 10000\n",
    "\n",
    "plt.imshow(test_data[index])\n",
    "print(predictions[index])"
   ]
  },
  {
   "cell_type": "code",
   "execution_count": 48,
   "metadata": {},
   "outputs": [],
   "source": [
    "import pandas as pd\n",
    "subm = pd.read_csv('d:\\\\Projects\\\\kaggle_digit_recog\\\\data\\\\sample_submission.csv')\n",
    "\n",
    "subm['Label'] = predictions\n",
    "\n",
    "pd.DataFrame.to_csv(subm, 'd:\\\\Projects\\\\kaggle_digit_recog\\\\submission.csv', index = None)"
   ]
  }
 ],
 "metadata": {
  "interpreter": {
   "hash": "43ecdd896cbf7ecf447ad6b411ef48744a06d0a589e8021a89cf93cc5eb77b99"
  },
  "kernelspec": {
   "display_name": "Python 3.9.12 ('kaggle_env')",
   "language": "python",
   "name": "python3"
  },
  "language_info": {
   "codemirror_mode": {
    "name": "ipython",
    "version": 3
   },
   "file_extension": ".py",
   "mimetype": "text/x-python",
   "name": "python",
   "nbconvert_exporter": "python",
   "pygments_lexer": "ipython3",
   "version": "3.9.12"
  },
  "orig_nbformat": 4
 },
 "nbformat": 4,
 "nbformat_minor": 2
}
