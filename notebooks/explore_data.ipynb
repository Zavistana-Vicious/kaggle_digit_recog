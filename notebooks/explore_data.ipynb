{
 "cells": [
  {
   "cell_type": "code",
   "execution_count": 1,
   "metadata": {},
   "outputs": [],
   "source": [
    "import numpy as np \n",
    "import pandas as pd\n",
    "from matplotlib import pyplot as plt"
   ]
  },
  {
   "cell_type": "code",
   "execution_count": 6,
   "metadata": {},
   "outputs": [
    {
     "name": "stdout",
     "output_type": "stream",
     "text": [
      "(42000, 785)\n"
     ]
    },
    {
     "data": {
      "image/png": "[encoded data removed]",
      "text/plain": [
       "<Figure size 432x288 with 1 Axes>"
      ]
     },
     "metadata": {
      "needs_background": "light"
     },
     "output_type": "display_data"
    },
    {
     "name": "stdout",
     "output_type": "stream",
     "text": [
      "2\n",
      "6\n"
     ]
    },
    {
     "data": {
      "image/png": "[encoded data removed]",
      "text/plain": [
       "<Figure size 432x288 with 1 Axes>"
      ]
     },
     "metadata": {
      "needs_background": "light"
     },
     "output_type": "display_data"
    }
   ],
   "source": [
    "# Training data\n",
    "train_raw = pd.read_csv('d:\\\\Projects\\\\kaggle_digit_recog\\\\data\\\\train.csv')\n",
    "print(train_raw.shape)\n",
    "\n",
    "x = train_raw.values[:, 0]\n",
    "y = train_raw.values[:, 1:] / 255\n",
    "\n",
    "y = np.reshape(y, (train_raw.shape[0], 28, 28)) \n",
    "\n",
    "plt.imshow(y[2800])\n",
    "plt.show()\n",
    "print(x[2800])\n",
    "plt.imshow(y[2801])\n",
    "plt.show()\n",
    "print(x[2801])"
   ]
  },
  {
   "cell_type": "code",
   "execution_count": 4,
   "metadata": {},
   "outputs": [
    {
     "name": "stdout",
     "output_type": "stream",
     "text": [
      "(28000, 784)\n",
      "2\n"
     ]
    },
    {
     "data": {
      "image/png": "[encoded data removed]",
      "text/plain": [
       "<Figure size 432x288 with 1 Axes>"
      ]
     },
     "metadata": {
      "needs_background": "light"
     },
     "output_type": "display_data"
    }
   ],
   "source": [
    "# Testing Data\n",
    "test_raw = pd.read_csv('d:\\\\Projects\\\\kaggle_digit_recog\\\\data\\\\test.csv')\n",
    "print(test_raw.shape)\n",
    "\n",
    "y = test_raw.values[:, :] / 255\n",
    "\n",
    "y = np.reshape(y, (test_raw.shape[0], 28, 28)) \n",
    "\n",
    "plt.imshow(y[2800])"
   ]
  }
 ],
 "metadata": {
  "interpreter": {
   "hash": "43ecdd896cbf7ecf447ad6b411ef48744a06d0a589e8021a89cf93cc5eb77b99"
  },
  "kernelspec": {
   "display_name": "Python 3.9.12 ('kaggle_env')",
   "language": "python",
   "name": "python3"
  },
  "language_info": {
   "codemirror_mode": {
    "name": "ipython",
    "version": 3
   },
   "file_extension": ".py",
   "mimetype": "text/x-python",
   "name": "python",
   "nbconvert_exporter": "python",
   "pygments_lexer": "ipython3",
   "version": "3.9.12"
  },
  "orig_nbformat": 4
 },
 "nbformat": 4,
 "nbformat_minor": 2
}
